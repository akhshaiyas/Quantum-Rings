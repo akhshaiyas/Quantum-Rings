{
 "cells": [
  {
   "cell_type": "markdown",
   "id": "c61e8a50-4f05-48ef-924c-38a48b3eee65",
   "metadata": {},
   "source": [
    "# Episode 1: Welcome, Math Prereqs & SDK Setup\n",
    "\n",
    "*In this session, we'll get you set up with the Quantum Rings SDK within your qBraid environment.*"
   ]
  },
  {
   "cell_type": "markdown",
   "id": "a044e780-7c30-46c3-b30f-d38395db34d0",
   "metadata": {},
   "source": [
    "## 1. Login & Credentials\n",
    "1. Open your browser and go to [quantumrings.com](https://www.quantumrings.com/) to log in.\n",
    "2. Navigate to your account dashboard and copy your **API token** and **email/username**.\n",
    "3. Keep your notebook open in qBraid so you can paste your credentials directly below."
   ]
  },
  {
   "cell_type": "markdown",
   "id": "7e90392e-b036-418e-8f54-c6a0096b6bba",
   "metadata": {},
   "source": [
    "## 2. Install & Reference Documentation\n",
    "- Installation instructions: [Installation Guide](https://portal.quantumrings.com/doc/Installation.html)\n",
    "- We're using the pre-configured Quantum Rings environment on qBraid, so the SDK is already installed."
   ]
  },
  {
   "cell_type": "markdown",
   "id": "e4a721f2-871b-4e3f-a370-191d6bc188fa",
   "metadata": {},
   "source": [
    "## 3. Save Your Credentials Locally\n",
    "Run the cell below, pasting in your token and email. This will store your account locally for future sessions."
   ]
  },
  {
   "cell_type": "code",
   "execution_count": 1,
   "id": "3549b54d-b98e-47aa-8a5e-bfe47c19fc3e",
   "metadata": {},
   "outputs": [
    {
     "name": "stdout",
     "output_type": "stream",
     "text": [
      "Active account: {'name': 'sakhshaiya01@gmail.com', 'token': 'rings-128.58WzeNZuM29cqkuJwJWEPMjQ8aAsPMZ2', 'max_qubits': '128'}\n"
     ]
    }
   ],
   "source": [
    "from QuantumRingsLib import QuantumRingsProvider\n",
    "  \n",
    "provider = QuantumRingsProvider(\n",
    "    token = \"rings-128.58WzeNZuM29cqkuJwJWEPMjQ8aAsPMZ2\",\n",
    "    name = \"sakhshaiya01@gmail.com\"\n",
    ")\n",
    "\n",
    "# Call save_account on the provider instance\n",
    "provider.save_account(\n",
    "    token = \"rings-128.58WzeNZuM29cqkuJwJWEPMjQ8aAsPMZ2\",\n",
    "    name = \"sakhshaiya01@gmail.com\"\n",
    ")\n",
    "\n",
    "backend = provider.get_backend(\"scarlet_quantum_rings\")\n",
    "\n",
    "# Show the saved account\n",
    "print(\"Active account:\", provider.active_account())"
   ]
  },
  {
   "cell_type": "markdown",
   "id": "7128f78f-bcb6-4272-ae26-83a750f2599c",
   "metadata": {},
   "source": [
    "## 4. \"Hello Quantum\" Demo\n",
    "Let's build a simple 1-qubit circuit, apply a Hadamard gate, and measure."
   ]
  },
  {
   "cell_type": "code",
   "execution_count": 2,
   "id": "07eecafa-f4e8-43ca-8ec7-09d4549fb84a",
   "metadata": {},
   "outputs": [],
   "source": [
    "# QauntumRingsLib 0.9.1\n",
    "\n",
    "from QuantumRingsLib import QuantumRingsProvider, QuantumRegister, ClassicalRegister, QuantumCircuit, job_monitor\n"
   ]
  },
  {
   "cell_type": "code",
   "execution_count": 3,
   "id": "8c4c2483-122f-43e4-9909-8a82ff8dd3e7",
   "metadata": {},
   "outputs": [
    {
     "data": {
      "text/plain": [
       "Gate(label = ,name = ,unit = dt,mutable = True,parameterized = False,qubits = 1,classical_bits = 1,'parameters': ])"
      ]
     },
     "execution_count": 3,
     "metadata": {},
     "output_type": "execute_result"
    }
   ],
   "source": [
    "# Create registers\n",
    "q = QuantumRegister(1, 'q')\n",
    "c = ClassicalRegister(1, 'c')\n",
    "qc = QuantumCircuit(q, c)\n",
    "\n",
    "# Apply a Hadamard gate, measure, and execute\n",
    "qc.h(q[0])\n",
    "qc.measure(q[0], c[0])\n",
    "\n",
    "# === Gates and Measurement\n",
    "qc.x(q[0])            # Apply X gate\n",
    "qc.measure(q[0], c[0])  # Measure into classical bit 0"
   ]
  },
  {
   "cell_type": "code",
   "execution_count": 1,
   "id": "ba38e8da-f0ed-4f07-afb2-a453eb8df43e",
   "metadata": {},
   "outputs": [
    {
     "name": "stdout",
     "output_type": "stream",
     "text": [
      "🚀 Running minimal Quantum Rings Core circuit...\n"
     ]
    },
    {
     "ename": "NameError",
     "evalue": "name 'backend' is not defined",
     "output_type": "error",
     "traceback": [
      "\u001b[0;31m---------------------------------------------------------------------------\u001b[0m",
      "\u001b[0;31mNameError\u001b[0m                                 Traceback (most recent call last)",
      "Cell \u001b[0;32mIn[1], line 3\u001b[0m\n\u001b[1;32m      1\u001b[0m \u001b[38;5;66;03m# === Run\u001b[39;00m\n\u001b[1;32m      2\u001b[0m \u001b[38;5;28mprint\u001b[39m(\u001b[38;5;124m\"\u001b[39m\u001b[38;5;124m🚀 Running minimal Quantum Rings Core circuit...\u001b[39m\u001b[38;5;124m\"\u001b[39m)\n\u001b[0;32m----> 3\u001b[0m job \u001b[38;5;241m=\u001b[39m \u001b[43mbackend\u001b[49m\u001b[38;5;241m.\u001b[39mrun(qc, shots\u001b[38;5;241m=\u001b[39m\u001b[38;5;241m512\u001b[39m)\n\u001b[1;32m      4\u001b[0m job_monitor(job)  \u001b[38;5;66;03m# ✅ Optional: track progress\u001b[39;00m\n\u001b[1;32m      5\u001b[0m result \u001b[38;5;241m=\u001b[39m job\u001b[38;5;241m.\u001b[39mresult()\n",
      "\u001b[0;31mNameError\u001b[0m: name 'backend' is not defined"
     ]
    }
   ],
   "source": [
    "# === Run\n",
    "print(\"🚀 Running minimal Quantum Rings Core circuit...\")\n",
    "job = backend.run(qc, shots=512)\n",
    "job_monitor(job)  # ✅ Optional: track progress\n",
    "result = job.result()"
   ]
  },
  {
   "cell_type": "code",
   "execution_count": 5,
   "id": "bd5a37a1-6466-4a32-95ff-3fba5bdfe0cc",
   "metadata": {},
   "outputs": [
    {
     "name": "stdout",
     "output_type": "stream",
     "text": [
      "📊 Measurement Results: {'0': 251, '1': 261}\n"
     ]
    }
   ],
   "source": [
    "# === Results\n",
    "counts = result.get_counts()\n",
    "print(\"📊 Measurement Results:\", counts)"
   ]
  },
  {
   "cell_type": "markdown",
   "id": "a3fdec11-5178-42fc-a2ad-ed981021a92c",
   "metadata": {},
   "source": [
    "## 5. Math Exercises"
   ]
  },
  {
   "cell_type": "markdown",
   "id": "b2bd690d-8a14-4b54-a24f-ee7a9bf72573",
   "metadata": {},
   "source": [
    "### Dirac Notation"
   ]
  },
  {
   "cell_type": "markdown",
   "id": "972edd49-ac74-4dd3-b17c-877fb290609b",
   "metadata": {},
   "source": [
    "**A)** Write-out the following vectors using Dirac notation. If they are not normalized, normalize them.\n",
    "1. $\\begin{pmatrix}1 \\\\ 0\\end{pmatrix}$\n",
    "2. $\\begin{pmatrix}0 \\\\ 1\\end{pmatrix}$\n",
    "3. $\\begin{pmatrix}\\frac{1}{\\sqrt{2}} \\\\ \\frac{1}{\\sqrt{2}}\\end{pmatrix}$\n",
    "4. $\\begin{pmatrix}\\frac{1}{\\sqrt{2}} \\\\ -\\frac{1}{\\sqrt{2}}\\end{pmatrix}$\n",
    "5. $\\begin{pmatrix} 3 \\\\ 7 \\end{pmatrix}$\n",
    "6. $\\begin{pmatrix} 2 \\\\ -3 \\end{pmatrix}$\n",
    "7. $\\begin{pmatrix} 1 \\\\ e^{-i \\frac{\\pi}{2}} \\end{pmatrix}$ \n",
    "\n",
    "\n",
    "**B)** Write-out the following states using vector notation. \n",
    "1. $|+\\rangle$\n",
    "2. $|-\\rangle$\n",
    "3.  $\\frac{1}{\\sqrt{2}}(|+\\rangle- |-\\rangle)$\n",
    "4.   $\\frac{1}{\\sqrt{2}}(|1\\rangle + |-\\rangle)$"
   ]
  },
  {
   "cell_type": "markdown",
   "id": "3fd03220-1982-4565-bb8e-741e0139325a",
   "metadata": {},
   "source": [
    "### Inner Products\n",
    "\n",
    "Compute the following inner products. Let $|\\psi\\rangle = \\alpha|0\\rangle+\\beta|1\\rangle$ and $|\\phi\\rangle = \\gamma|0\\rangle+\\delta|1\\rangle$.\n",
    "\n",
    "1. $\\langle 0|+ \\rangle$\n",
    "2.  $\\langle -|+ \\rangle$\n",
    "3.   $\\langle 0|\\psi \\rangle$\n",
    "4.    $\\langle \\phi|\\psi \\rangle$"
   ]
  },
  {
   "cell_type": "markdown",
   "id": "81a8c720-e6f1-4750-8bb6-d54d786f0226",
   "metadata": {},
   "source": [
    "### Outer Products \n",
    "\n",
    "Compute the following outer products. Let $|\\psi\\rangle = \\alpha|0\\rangle+\\beta|1\\rangle$ and $|\\phi\\rangle = \\gamma|0\\rangle+\\delta|1\\rangle$.\n",
    "\n",
    "1. $|0\\rangle \\langle 0 |$\n",
    "2. $|1\\rangle \\langle + |$\n",
    "3. $|0\\rangle \\langle \\psi |$\n",
    "4. $|\\phi\\rangle \\langle \\psi |$"
   ]
  },
  {
   "cell_type": "markdown",
   "id": "e1522a68-366d-4306-92c4-6d1525e4171b",
   "metadata": {},
   "source": [
    "### Unitary and Hermitian Matrices\n",
    "\n",
    "A unitary matrix $U$ satisfies $UU^{\\dagger} = U^{\\dagger} U = \\mathbb{1}$, or in other words, $U^\\dagger = U^{-1}$. A unitary matrix preserves the norm (length) of a vector. A Hermitian matrix $A$ satisfies $A^\\dagger = A$.\n",
    "\n",
    "For each of the following matrices, say whether or not they are Hermitian, and then check by matrix multiplication if they are unitary.\n",
    "1. $\\begin{pmatrix}1 & 0\\\\0 & -1\\end{pmatrix}$\n",
    "2. $\\begin{pmatrix}0 & i\\\\-i & 0\\end{pmatrix}$\n",
    "3. $\\begin{pmatrix}1 & -i\\\\i & 1\\end{pmatrix}$\n",
    "4. $\\begin{pmatrix}\\cos(\\theta) & \\sin(\\theta)\\\\ -\\sin(\\theta) & \\cos(\\theta)\\end{pmatrix}$"
   ]
  },
  {
   "cell_type": "markdown",
   "id": "475967d0-6122-4740-844f-f6b567ef0c16",
   "metadata": {
    "jp-MarkdownHeadingCollapsed": true
   },
   "source": [
    "### Sneak Preview: Hadamard gate\n",
    "\n",
    "The following matrix is called the Hadamard gate: $H=\\tfrac{1}{\\sqrt{2}}\\begin{pmatrix}1 & 1\\\\1 & -1\\end{pmatrix}$  Recall that a gate is just an operator which maps one quantum state to another quantum state. In the language of linear algebra, it is just a matrix multiplication.\n",
    "\n",
    "Let's see how $H$ acts on our states. Compute the following:\n",
    "1. $H|0\\rangle$\n",
    "2. $H|1\\rangle$\n",
    "3. $H|+\\rangle$\n",
    "4. $H|-\\rangle$\n",
    "\n",
    "What can you say about the action of the Hadamard gate?"
   ]
  },
  {
   "cell_type": "markdown",
   "id": "31e4f764-c292-486b-99de-0bb7369377e5",
   "metadata": {
    "jp-MarkdownHeadingCollapsed": true
   },
   "source": [
    "----\n",
    "### Next Up\n",
    "**Episode 2: Single-Qubit Gates, Bloch Sphere & Measurement**\n",
    "\n",
    "We'll explore the Bloch sphere representation and see how various single-qubit gates manipulate states."
   ]
  }
 ],
 "metadata": {
  "kernelspec": {
   "display_name": "Python 3 QuantumRings",
   "language": "python",
   "name": "python3_quantu_8bt6c1"
  },
  "language_info": {
   "codemirror_mode": {
    "name": "ipython",
    "version": 3
   },
   "file_extension": ".py",
   "mimetype": "text/x-python",
   "name": "python",
   "nbconvert_exporter": "python",
   "pygments_lexer": "ipython3",
   "version": "3.11.9"
  }
 },
 "nbformat": 4,
 "nbformat_minor": 5
}
