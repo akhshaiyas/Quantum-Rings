{
 "cells": [
  {
   "cell_type": "markdown",
   "id": "0b145155-4321-4c23-bae9-07a1f919dc57",
   "metadata": {},
   "source": [
    "<div style=\"background-color:rgba(78, 188, 130, 0.05); text-align:center; vertical-align: middle; padding:20px 0;border:3px; border-style:solid; padding: 0.5em; border-color: rgba(78, 188, 130, 1.0); color: #000000;\">\n",
    "\n",
    "<img src=\"figs/qr_logo.png\" width=\"700\"/>\n",
    "\n",
    "<h1><strong>Quantum Summer School</strong></h1>\n",
    "\n",
    "<h2><strong>Episode 6</strong></h2>\n",
    "\n",
    "<h3><strong>\"Toy\" Algorithms</strong></h3>\n",
    "\n",
    "</div>"
   ]
  },
  {
   "cell_type": "markdown",
   "id": "ddae8b51-ecd2-45e4-bd34-ed23ce60bb73",
   "metadata": {},
   "source": [
    "*In this session, we’ll explore three toy algorithms that highlight the power of quantum superposition and phase interference.*"
   ]
  },
  {
   "cell_type": "markdown",
   "id": "8c5639e9-6fa3-4329-9957-f6ae5dd5c4b1",
   "metadata": {
    "jp-MarkdownHeadingCollapsed": true
   },
   "source": [
    "<div style=\"background-color:rgba(255, 248, 240, 1.0); text-align:left; vertical-align: middle; padding:20px 0;border:3px; border-style:solid; padding: 0.5em; border-color: rgba(255, 142, 0, 1.0); color: #000000;\">\n",
    "\n",
    "## Objectives\n",
    "Learn three toy algorithms!\n",
    "1. Deutsch-Jozsa Algorithm\n",
    "2. Bernstein-Vazirani Algorithm\n",
    "3. Simon's Algorithm\n",
    "\n",
    "<div/>"
   ]
  },
  {
   "cell_type": "markdown",
   "id": "96ddba20",
   "metadata": {},
   "source": [
    "## Setup & Imports"
   ]
  },
  {
   "cell_type": "code",
   "execution_count": 1,
   "id": "3c3ae3d5",
   "metadata": {},
   "outputs": [],
   "source": [
    "from QuantumRingsLib import QuantumRingsProvider, QuantumRegister, ClassicalRegister, QuantumCircuit, job_monitor\n",
    "# import qiskit versions of QuantumCircuit, QuantumRegister, ClassicalRegister so we can draw statevectors in latex\n",
    "from qiskit import QuantumCircuit as qkQuantumCircuit\n",
    "from qiskit import QuantumRegister as qkQuantumRegister\n",
    "from qiskit import ClassicalRegister as qkClassicalRegister\n",
    "from qiskit.circuit.library import GroverOperator, MCMT, ZGate\n",
    "from qiskit.visualization import plot_histogram\n",
    "from qiskit.quantum_info import Statevector\n",
    "import matplotlib.pyplot as plt\n",
    "import warnings\n",
    "warnings.filterwarnings('ignore')\n",
    "import numpy as np\n",
    "from jupyterquiz import display_quiz\n",
    "\n",
    "provider = QuantumRingsProvider()\n",
    "backend = provider.get_backend('scarlet_quantum_rings')"
   ]
  },
  {
   "cell_type": "markdown",
   "id": "ffdde39f-6d8b-4a9f-988d-1d922dc89d8e",
   "metadata": {},
   "source": [
    "## Helper Functions"
   ]
  },
  {
   "cell_type": "markdown",
   "id": "fe67c849-38b1-44e8-9224-4aa1beb180c6",
   "metadata": {},
   "source": [
    "Bit List: return a list of all bit strings of length num_bits"
   ]
  },
  {
   "cell_type": "code",
   "execution_count": 2,
   "id": "a8b8ca92-0de7-45b2-a952-0813da5cd38a",
   "metadata": {},
   "outputs": [],
   "source": [
    "def bit_list(num_bits):\n",
    "    bit_strings = [bin(bit)[2:].zfill(num_bits) for bit in range(2**num_bits)]\n",
    "    bit_lists = []\n",
    "    for string in bit_strings:\n",
    "        bit_lists.append([int(bit) for bit in string])\n",
    "    return  bit_strings, bit_lists"
   ]
  },
  {
   "cell_type": "markdown",
   "id": "a5c51df6-7060-46ce-b6a8-dfe94a0cf787",
   "metadata": {},
   "source": [
    "Check Truth Table: supply an oracle which outputs $f(x)\\oplus y$ for a register of length len_x ($x$), and use this to check across all possible inputs"
   ]
  },
  {
   "cell_type": "code",
   "execution_count": 3,
   "id": "f48df425-346c-43e6-9976-c2f373d37084",
   "metadata": {},
   "outputs": [],
   "source": [
    "def check_truth_table(len_x, oracle):\n",
    "\n",
    "    print('Oracle:')\n",
    "    qx = qkQuantumRegister(len_x, 'x')\n",
    "    qy = qkQuantumRegister(1, 'y')\n",
    "    qc = qkQuantumCircuit(qy,qx)\n",
    "    oracle(qc, qx, qy)\n",
    "    display(qc.draw(reverse_bits=True))\n",
    "\n",
    "    print('Bit ordering is x_n,...,x_0,y \\n')\n",
    "\n",
    "    basis_states, _ = bit_list(len_x+1)\n",
    "    for state in basis_states:\n",
    "        qx = qkQuantumRegister(len_x, 'x')\n",
    "        qy = qkQuantumRegister(1, 'y')\n",
    "        qc = qkQuantumCircuit(qy,qx)\n",
    "        \n",
    "        for i in range(len_x+1):\n",
    "            if state[len_x-i] == '1':\n",
    "                qc.x(i)\n",
    "        \n",
    "        sv_in = Statevector(qc)\n",
    "\n",
    "        oracle(qc, qx, qy)\n",
    "    \n",
    "        sv = Statevector(qc)\n",
    "        print(f\"In: \\t {sv_in.draw('latex').data[4:4+len_x+1]} \\t Out: \\t {sv.draw('latex').data[4:4+len_x+1]} \\t f+y: \\t {sv.draw('latex').data[4+len_x]} \\n\")\n",
    "        "
   ]
  },
  {
   "cell_type": "markdown",
   "id": "755ea53d-d91a-4832-b1b2-d67975f8cfdd",
   "metadata": {},
   "source": [
    "Compute Dot Products: checks the results from Simon's Algorithm"
   ]
  },
  {
   "cell_type": "code",
   "execution_count": 4,
   "id": "3665be70-f4de-469b-9eef-e4171f606ce6",
   "metadata": {},
   "outputs": [],
   "source": [
    "def compute_dot_products(string,counts):\n",
    "    b=string\n",
    "    for z in counts.keys():\n",
    "        b_dot_z = sum([ int(z[i]) * int(b[i]) for i in range(len(b))])\n",
    "        print(rf\"{b} . {z} = {b_dot_z} = {b_dot_z%2} (mod 2)\")"
   ]
  },
  {
   "cell_type": "markdown",
   "id": "a625da45-7696-49c3-b03c-73194be71f73",
   "metadata": {},
   "source": [
    "## 1. Deutsch-Jozsa Algorithm"
   ]
  },
  {
   "cell_type": "markdown",
   "id": "3a8d3e80-d832-466e-8641-a573518f5a76",
   "metadata": {},
   "source": [
    "<div style=\"background-color:rgba(255, 247, 250, 1.0); text-align:left; vertical-align: middle; padding:20px 0;border:3px; border-style:solid; padding: 0.5em; border-color: rgba(255, 149, 195, 1.0); color: #000000;\">\n",
    "\n",
    "Arguably the simplest \"algorithm\" in quantum computing is the Deutsch-Jozsa algorithm, which outperforms the best classical algorithm. The issue at hand is to determine whether a function is $f: \\{0,1\\}^n \\rightarrow {0,1}$ is constant or balanced. In other words, $f$ takes as an input a length-$n$ bitstring, which we refer to as $x=x_n\\cdots x_2x_1$, and outputs either 0 or 1 for each input. If $f$ is constant, it always outputs the same answer. If $f$ is balanced, then it outputs 0 for exactly half of the inputs and 1 for the other half.\n",
    "\n",
    "For example, this function is constant:\n",
    "| $x_2$ &nbsp; &nbsp; &nbsp; &nbsp; &nbsp; &nbsp; &nbsp; | $x_1$ &nbsp; &nbsp; &nbsp; &nbsp; &nbsp; &nbsp; &nbsp; |  $f(x)$ &nbsp; &nbsp; &nbsp; &nbsp; &nbsp; &nbsp; &nbsp; | \n",
    "| :-------------------------------- | :-------------------------------- | :-------------------------------- |\n",
    " |0 | 0 | 1 | \n",
    " |0| 1 | 1 | \n",
    " |1 | 0| 1 |\n",
    " |1| 1| 1 | \n",
    "\n",
    " and this function is balanced:\n",
    " | $x_2$ &nbsp; &nbsp; &nbsp; &nbsp; &nbsp; &nbsp; &nbsp; | $x_1$ &nbsp; &nbsp; &nbsp; &nbsp; &nbsp; &nbsp; &nbsp; |  $f(x)$ &nbsp; &nbsp; &nbsp; &nbsp; &nbsp; &nbsp; &nbsp; | \n",
    "| :-------------------------------- | :-------------------------------- | :-------------------------------- |\n",
    " |0 | 0 | 1 | \n",
    " |0| 1 | 0 | \n",
    " |1 | 0| 0 |\n",
    " |1| 1| 1 | \n",
    "\n",
    "\n",
    "Suppose I give you a black box which tells you the output of a mystery function $f$ for any given input. How many times would you have to query the black box in order to determine if $f$ is constant or balanced?\n",
    "\n",
    "Well, in the worst case scenario, we would need to check the output of $f$ for half of the number of bitsrings plus one. This is because if we measure half of the outputs to be 0, then we would need to measure one more input to be certain whether this $f$ is constant or balanced. So classically, worst case scenario, we need to make $2^{n-1} + 1$ queries of $f$. With the Deutsch-Jozsa algorithm on a quantum computer, however, we can always determine whether $f$ is constant or balanced in a *single query*!\n",
    "\n",
    "For the Deutsch Jozsa algorithm, we need to translate $f$ to something a quantum computer can understand. So we encode $f$ into a unitary $U_f$ which acts on an $n+1$ qubit system (where $n$ is the length of the inputs to $f$). We do not count any extra gates needed for the circuit, such as $H$ gates, towards the number of queries –– only the number of times $U_f$ is applied.\n",
    "\n",
    "</div>"
   ]
  },
  {
   "cell_type": "markdown",
   "id": "7f7c70fb-a51d-452c-925e-2529bdf745c5",
   "metadata": {},
   "source": [
    "### Oracles for $f$\n",
    "\n",
    "Let's practice making some oracles for constant and balanced functions."
   ]
  },
  {
   "cell_type": "code",
   "execution_count": 5,
   "id": "39215575-6228-4fbb-91f5-c49fe55f7b82",
   "metadata": {},
   "outputs": [],
   "source": [
    "# constant 0\n",
    "def oracle(qc, qx, qy):\n",
    "    pass"
   ]
  },
  {
   "cell_type": "code",
   "execution_count": 6,
   "id": "6548315b-41d4-480d-afab-afbc9e7569f3",
   "metadata": {},
   "outputs": [
    {
     "name": "stdout",
     "output_type": "stream",
     "text": [
      "Oracle:\n"
     ]
    },
    {
     "data": {
      "text/html": [
       "<pre style=\"word-wrap: normal;white-space: pre;background: #fff0;line-height: 1.1;font-family: &quot;Courier New&quot;,Courier,monospace\">     \n",
       "x_1: \n",
       "     \n",
       "x_0: \n",
       "     \n",
       "  y: \n",
       "     </pre>"
      ],
      "text/plain": [
       "     \n",
       "x_1: \n",
       "     \n",
       "x_0: \n",
       "     \n",
       "  y: \n",
       "     "
      ]
     },
     "metadata": {},
     "output_type": "display_data"
    },
    {
     "name": "stdout",
     "output_type": "stream",
     "text": [
      "Bit ordering is x_n,...,x_0,y \n",
      "\n",
      "In: \t 000 \t Out: \t 000 \t f+y: \t 0 \n",
      "\n",
      "In: \t 001 \t Out: \t 001 \t f+y: \t 1 \n",
      "\n",
      "In: \t 010 \t Out: \t 010 \t f+y: \t 0 \n",
      "\n",
      "In: \t 011 \t Out: \t 011 \t f+y: \t 1 \n",
      "\n",
      "In: \t 100 \t Out: \t 100 \t f+y: \t 0 \n",
      "\n",
      "In: \t 101 \t Out: \t 101 \t f+y: \t 1 \n",
      "\n",
      "In: \t 110 \t Out: \t 110 \t f+y: \t 0 \n",
      "\n",
      "In: \t 111 \t Out: \t 111 \t f+y: \t 1 \n",
      "\n"
     ]
    }
   ],
   "source": [
    "check_truth_table(len_x=2, oracle=oracle)"
   ]
  },
  {
   "cell_type": "code",
   "execution_count": 7,
   "id": "4243fad8-3b60-4fc8-83c3-8b31c66d1493",
   "metadata": {},
   "outputs": [],
   "source": [
    "# constant 1\n",
    "def oracle(qc, qx, qy):\n",
    "    qc.x(qy)"
   ]
  },
  {
   "cell_type": "code",
   "execution_count": 8,
   "id": "e26db6be-4589-42be-90d9-9a4a4c5dc7e3",
   "metadata": {},
   "outputs": [
    {
     "name": "stdout",
     "output_type": "stream",
     "text": [
      "Oracle:\n"
     ]
    },
    {
     "data": {
      "text/html": [
       "<pre style=\"word-wrap: normal;white-space: pre;background: #fff0;line-height: 1.1;font-family: &quot;Courier New&quot;,Courier,monospace\">          \n",
       "x_1: ─────\n",
       "          \n",
       "x_0: ─────\n",
       "     ┌───┐\n",
       "  y: ┤ X ├\n",
       "     └───┘</pre>"
      ],
      "text/plain": [
       "          \n",
       "x_1: ─────\n",
       "          \n",
       "x_0: ─────\n",
       "     ┌───┐\n",
       "  y: ┤ X ├\n",
       "     └───┘"
      ]
     },
     "metadata": {},
     "output_type": "display_data"
    },
    {
     "name": "stdout",
     "output_type": "stream",
     "text": [
      "Bit ordering is x_n,...,x_0,y \n",
      "\n",
      "In: \t 000 \t Out: \t 001 \t f+y: \t 1 \n",
      "\n",
      "In: \t 001 \t Out: \t 000 \t f+y: \t 0 \n",
      "\n",
      "In: \t 010 \t Out: \t 011 \t f+y: \t 1 \n",
      "\n",
      "In: \t 011 \t Out: \t 010 \t f+y: \t 0 \n",
      "\n",
      "In: \t 100 \t Out: \t 101 \t f+y: \t 1 \n",
      "\n",
      "In: \t 101 \t Out: \t 100 \t f+y: \t 0 \n",
      "\n",
      "In: \t 110 \t Out: \t 111 \t f+y: \t 1 \n",
      "\n",
      "In: \t 111 \t Out: \t 110 \t f+y: \t 0 \n",
      "\n"
     ]
    }
   ],
   "source": [
    "check_truth_table(len_x=2, oracle=oracle)"
   ]
  },
  {
   "cell_type": "code",
   "execution_count": 11,
   "id": "6429ebcb-69f4-4d60-aa5a-118569641dc0",
   "metadata": {},
   "outputs": [],
   "source": [
    "# balanced\n",
    "def oracle(qc, qx, qy):\n",
    "    qc.cx(qx[0],qy[0])"
   ]
  },
  {
   "cell_type": "code",
   "execution_count": 12,
   "id": "4b3a5638-8495-4839-91d3-94f1119c01ba",
   "metadata": {},
   "outputs": [
    {
     "name": "stdout",
     "output_type": "stream",
     "text": [
      "Oracle:\n"
     ]
    },
    {
     "data": {
      "text/html": [
       "<pre style=\"word-wrap: normal;white-space: pre;background: #fff0;line-height: 1.1;font-family: &quot;Courier New&quot;,Courier,monospace\">          \n",
       "x_1: ─────\n",
       "          \n",
       "x_0: ──■──\n",
       "     ┌─┴─┐\n",
       "  y: ┤ X ├\n",
       "     └───┘</pre>"
      ],
      "text/plain": [
       "          \n",
       "x_1: ─────\n",
       "          \n",
       "x_0: ──■──\n",
       "     ┌─┴─┐\n",
       "  y: ┤ X ├\n",
       "     └───┘"
      ]
     },
     "metadata": {},
     "output_type": "display_data"
    },
    {
     "name": "stdout",
     "output_type": "stream",
     "text": [
      "Bit ordering is x_n,...,x_0,y \n",
      "\n",
      "In: \t 000 \t Out: \t 000 \t f+y: \t 0 \n",
      "\n",
      "In: \t 001 \t Out: \t 001 \t f+y: \t 1 \n",
      "\n",
      "In: \t 010 \t Out: \t 011 \t f+y: \t 1 \n",
      "\n",
      "In: \t 011 \t Out: \t 010 \t f+y: \t 0 \n",
      "\n",
      "In: \t 100 \t Out: \t 100 \t f+y: \t 0 \n",
      "\n",
      "In: \t 101 \t Out: \t 101 \t f+y: \t 1 \n",
      "\n",
      "In: \t 110 \t Out: \t 111 \t f+y: \t 1 \n",
      "\n",
      "In: \t 111 \t Out: \t 110 \t f+y: \t 0 \n",
      "\n"
     ]
    }
   ],
   "source": [
    "check_truth_table(len_x=2, oracle=oracle)"
   ]
  },
  {
   "cell_type": "markdown",
   "id": "cc3b1ef9-946f-4732-a98e-396cb716217d",
   "metadata": {},
   "source": [
    "### The Algorithm"
   ]
  },
  {
   "cell_type": "code",
   "execution_count": 13,
   "id": "1dd3f632-9f34-4539-8825-5ee218a4ee8d",
   "metadata": {},
   "outputs": [],
   "source": [
    "def DJ_oracle(qc,qx,qy, f='constant_0'):\n",
    "\n",
    "    if f=='constant_0':\n",
    "        pass\n",
    "    elif f=='constant_1':\n",
    "        qc.x(qy)\n",
    "    elif f == 'balanced':\n",
    "        qc.cx(qx[0],qy[0])"
   ]
  },
  {
   "cell_type": "code",
   "execution_count": 18,
   "id": "6a1b5392-6cc4-4f8b-b473-21768e0385cd",
   "metadata": {},
   "outputs": [
    {
     "name": "stdout",
     "output_type": "stream",
     "text": [
      "       ┌───┐┌───┐┌───┐      \n",
      "x[0]: ■┤ H ├┤ H ├┤ M ├───── \n",
      "       ├───┤├───┤└─╥─┘┌───┐ \n",
      "x[1]: ■┤ H ├┤ H ├──║──┤ M ├ \n",
      "       ├───┤├───┘  ║  └─╥─┘ \n",
      "y[0]: ■┤ X ├┤ H ├──║────║── \n",
      "       └───┘└───┘  ║    ║   \n",
      "c: 2/ ■════════════╩════╩══ \n",
      "                   0    1   \n"
     ]
    }
   ],
   "source": [
    "qx = QuantumRegister(2, 'x')\n",
    "qy = QuantumRegister(1, 'y')\n",
    "cr = ClassicalRegister(2)\n",
    "qc = QuantumCircuit(qx,qy,cr, name='QSS6.1_DJ')\n",
    "\n",
    "qc.h(qx)\n",
    "\n",
    "qc.x(qy)\n",
    "qc.h(qy)\n",
    "DJ_oracle(qc,qx,qy, f='constant_0')\n",
    "qc.h(qx)\n",
    "qc.measure(qx,cr)\n",
    "qc.draw()"
   ]
  },
  {
   "cell_type": "code",
   "execution_count": 19,
   "id": "d6249e1a-b8fa-4b99-b6e6-e5e5d3fec362",
   "metadata": {},
   "outputs": [
    {
     "name": "stdout",
     "output_type": "stream",
     "text": [
      "Job Running\n",
      "Job Done.\n",
      "Ending Job Monitor\n"
     ]
    },
    {
     "data": {
      "image/png": "[encoded data removed]",
      "text/plain": [
       "<Figure size 640x480 with 1 Axes>"
      ]
     },
     "execution_count": 19,
     "metadata": {},
     "output_type": "execute_result"
    }
   ],
   "source": [
    "job = backend.run(qc, shots=1000)\n",
    "job_monitor(job)\n",
    "result = job.result()\n",
    "counts = result.get_counts()\n",
    "plot_histogram(counts)"
   ]
  },
  {
   "cell_type": "markdown",
   "id": "c9fc9a2a-feef-4207-b6bb-75a49d253c82",
   "metadata": {},
   "source": [
    "# 2. Bernstein-Vazirani Algorithm"
   ]
  },
  {
   "cell_type": "markdown",
   "id": "7e6a5a14-4e16-4b25-b906-d068115ec37c",
   "metadata": {},
   "source": [
    "<div style=\"background-color:rgba(243, 248, 255, 1.0); text-align:left; vertical-align: middle; padding:20px 0;border:3px; border-style:solid; padding: 0.5em; border-color: rgba(101, 174, 247, 1.0); color: #000000;\">\n",
    "\n",
    "The Deutsch-Jozsa Algorithm is a clear example of a quantum speedup, albeit for a contrived problem. The rest of our toy algorithms are also somewhat contrived, but they get at the heart of what makes quantum computers powerful -- leveraging superposition and interference effects from phases.\n",
    "\n",
    "Now consider the following problem. We have a mystery bitstring $s \\in \\{0,1\\}^n$. From this $s$, we can define a function $f: \\{0,1\\}^n \\rightarrow {0,1}$ which performs the dot product modulo 2. In other words:\n",
    "\n",
    "$$ f(x) = x\\cdot s = x_n\\cdot s_n \\oplus \\cdots \\oplus x_2\\cdot s_2 \\oplus x_1\\cdot s_1$$\n",
    "\n",
    "For example, if $s=011$, then:\n",
    "\n",
    "| $x$ &nbsp; &nbsp; &nbsp; &nbsp; &nbsp; &nbsp; &nbsp; |  $f(x)$ &nbsp; &nbsp; &nbsp; &nbsp; &nbsp; &nbsp; &nbsp; | \n",
    "| :-------------------------------- |  :-------------------------------- |\n",
    " |000 | 0 |\n",
    " |001| 1 | \n",
    " |010 | 1| \n",
    " |011| 0| \n",
    " |100 | 0 |\n",
    " |101| 1 | \n",
    " |110 | 1| \n",
    " |111| 0|\n",
    "\n",
    "The goal: determine $s$!\n",
    "\n",
    "Classically, the best approach we have is to go one by one down the binary digits, inputting $2^k$ for $k\\in\\{0,1,\\cdots,n-1\\}$. These inputs are the binary strings with exactly one 1 in the kth bit, which would \"pick out\" the kth bit in $s$ from the dot product. In the above table, you can see how $s$ can be reconstructed from $f(100),f(010),f(001)$. So we would need $n$ queries to determine $s$.\n",
    "\n",
    "With a quantum algorithm... you guessed it... we only need one query!\n",
    "\n",
    "<div/>"
   ]
  },
  {
   "cell_type": "code",
   "execution_count": 20,
   "id": "d624d3d2-1025-4f41-a6d6-8592c1d50bb5",
   "metadata": {},
   "outputs": [],
   "source": [
    "def BV_oracle(qc,qx,qy,string):\n",
    "\n",
    "    if len(string) != qx.size():\n",
    "        raise ValueError(f\"The string length ({len(string)}) and register size ({qx.size()}) don't match.\")\n",
    "\n",
    "    # reverse string order to match default ordering\n",
    "    # then apply gates\n",
    "    s_inv = string[::-1]\n",
    "    for i in range (qx.size()):\n",
    "        if s_inv[i] == '1':\n",
    "            qc.cx(qx[i],qy[0])"
   ]
  },
  {
   "cell_type": "code",
   "execution_count": 24,
   "id": "9ac336b8-7190-44e0-83a8-edbdc58f7804",
   "metadata": {},
   "outputs": [
    {
     "name": "stdout",
     "output_type": "stream",
     "text": [
      "       ┌───┐               ┌───┐┌───┐                \n",
      "x[0]: ■┤ H ├───────────────┤ H ├┤ M ├─────────────── \n",
      "       ├───┤               ├───┤└─╥─┘┌───┐           \n",
      "x[1]: ■┤ H ├───────────────┤ H ├──║──┤ M ├────────── \n",
      "       ├───┤               ├───┤  ║  └─╥─┘┌───┐      \n",
      "x[2]: ■┤ H ├───────■───────┤ H ├──║────║──┤ M ├───── \n",
      "       ├───┤       │       ├───┤  ║    ║  └─╥─┘┌───┐ \n",
      "x[3]: ■┤ H ├───────│────■──┤ H ├──║────║────║──┤ M ├ \n",
      "       ├───┤┌───┐┌─┴─┐┌─┴─┐└───┘  ║    ║    ║  └─╥─┘ \n",
      "y[0]: ■┤ X ├┤ H ├┤ X ├┤ X ├───────║────║────║────║── \n",
      "       └───┘└───┘└───┘└───┘       ║    ║    ║    ║   \n",
      "c: 4/ ■═══════════════════════════╩════╩════╩════╩══ \n",
      "                                  0    1    2    3   \n"
     ]
    }
   ],
   "source": [
    "secret_string = '1100'\n",
    "\n",
    "len_x = len(secret_string)\n",
    "qx = QuantumRegister(len_x, 'x')\n",
    "qy = QuantumRegister(1, 'y')\n",
    "cr = ClassicalRegister(len_x)\n",
    "qc = QuantumCircuit(qx,qy,cr, name='QSS6.2_BV')\n",
    "\n",
    "qc.h(qx)\n",
    "qc.x(qy)\n",
    "qc.h(qy)\n",
    "\n",
    "BV_oracle(qc,qx,qy,secret_string)\n",
    "qc.h(qx)\n",
    "\n",
    "qc.measure(qx,cr)\n",
    "qc.draw()"
   ]
  },
  {
   "cell_type": "code",
   "execution_count": 25,
   "id": "9a94da0a-9e5d-429d-85ad-292d5b417a1d",
   "metadata": {},
   "outputs": [
    {
     "name": "stdout",
     "output_type": "stream",
     "text": [
      "Job Running\n",
      "Job Done.\n",
      "Ending Job Monitor\n"
     ]
    },
    {
     "data": {
      "image/png": "[encoded data removed]",
      "text/plain": [
       "<Figure size 640x480 with 1 Axes>"
      ]
     },
     "execution_count": 25,
     "metadata": {},
     "output_type": "execute_result"
    }
   ],
   "source": [
    "job = backend.run(qc, shots=1000)\n",
    "job_monitor(job)\n",
    "result = job.result()\n",
    "counts = result.get_counts()\n",
    "plot_histogram(counts)"
   ]
  },
  {
   "cell_type": "markdown",
   "id": "95465495-a771-469d-86d3-252476634648",
   "metadata": {},
   "source": [
    "<div style=\"background-color:rgba(252, 245, 255, 1.0); text-align:left; vertical-align: middle; padding:20px 0;border:3px; border-style:solid; padding: 0.5em; border-color: rgba(190, 111, 227, 1.0); color: #000000;\">\n",
    "\n",
    "### Challenge Problem: Probabalistic Bernstein-Vazirani Algorithm\n",
    "\n",
    "We can extend what we just did above to the case of two secret strings, $s_1$ and $s_2$. In order to accomplish this, we need another auxillary bit to help us out. Follow the steps below to construct the oracle for two hidden strings.\n",
    "\n",
    "Note that when we measure our qubits, we can only get out one bit string at a time. So it is impossible to determine both $s_1$ and $s_2$ in one query. But we should be able to determine $s_1$ and $s_2$ over the course of a couple shots, since each one should be measured with 50% probability.\n",
    "\n",
    "\n",
    "<div/>"
   ]
  },
  {
   "cell_type": "markdown",
   "id": "3759bce2-8155-487b-9225-66a1aec13e15",
   "metadata": {},
   "source": [
    "Here is the skeleton circuit. We have our register for $x$, our qubit $y$, and one extra control qubit which we can label $a$ for auxillary. We prepare the $x$ and $y$ registers as before, and put the $a$ qubit in equal superposition with a Hadamard as well."
   ]
  },
  {
   "cell_type": "code",
   "execution_count": null,
   "id": "4bb3e9ab-7a12-4088-80ef-cdd4dcbc332f",
   "metadata": {},
   "outputs": [],
   "source": [
    "s1 = '101'\n",
    "s2 = '111'\n",
    "\n",
    "len_x = len(s1)\n",
    "qx = QuantumRegister(len_x, 'x')\n",
    "qy = QuantumRegister(1, 'y')\n",
    "qa = QuantumRegister(1, 'a')\n",
    "cr = ClassicalRegister(len_x)\n",
    "qc = QuantumCircuit(qx,qy,qa,cr)\n",
    "\n",
    "# equal superposition of all bitstrings\n",
    "qc.h(qx)\n",
    "\n",
    "# prepare |-> state on y\n",
    "qc.x(qy)\n",
    "qc.h(qy)\n",
    "\n",
    "# prepare |+> state on a\n",
    "qc.h(qa)\n",
    "\n",
    "qc.barrier()\n",
    "# ORACLE goes here\n",
    "qc.barrier()\n",
    "\n",
    "# undo superposition on x\n",
    "qc.h(qx)\n",
    "\n",
    "# measure x\n",
    "qc.measure(qx,cr)\n",
    "qc.draw()"
   ]
  },
  {
   "cell_type": "markdown",
   "id": "89028035-523c-4196-beaf-099ec12fb5da",
   "metadata": {},
   "source": [
    "Now let's build the oracle. We will need to include the oracle for both $s_1$ and $s_2$ like before, BUT we need a way to pick one of those oracles with 50% probability. That way, the problem is reduced to the regular BV algorithm, and therefore each shot we have a 50% chance of measuring $s_1$ and a 50% chance of measuring $s_2$.\n",
    "\n",
    "We use the auxillary qubit to help us out. We already put it in an equal superposition of 0 and 1. What should you do if you want to apply the oracle for $s_1$ if and only if the auxillary qubit is 1?\n",
    "\n",
    "*Remember that our oracle is composed of CNOT gates. We can turn all of those CNOTs into Toffoli gates, so now the CNOTs are only applied if the auxillary qubit is 1.*\n",
    "\n",
    "Now we want to only apply the oracle for $s_2$ if we DID NOT apply the oracle for $s_1$. What gate should you apply to a qubit to flip its behavior as a control qubit?\n",
    "\n",
    "*We can apply an X gate to the auxillary qubit in between the two oracles, so that it only activates one of them.*\n",
    "\n",
    "Now we know how to build the oracle. Use the code from the previous section to help you define the oracle."
   ]
  },
  {
   "cell_type": "code",
   "execution_count": null,
   "id": "2d0a7b82-ec4e-4864-837e-0a4bc33d7ee5",
   "metadata": {},
   "outputs": [],
   "source": [
    "def BV_oracle_two_strings(qc,qx,qy,qa,s1,s2):\n",
    "\n",
    "    ## ORACLE for s1 conditioned on qa\n",
    "    \n",
    "    qc.barrier()\n",
    "\n",
    "    ## FLIP qa\n",
    "    \n",
    "    qc.barrier()\n",
    "\n",
    "    ## ORACLE for s2 conditioned on qa"
   ]
  },
  {
   "cell_type": "code",
   "execution_count": null,
   "id": "741c2985-2ca5-4d0c-a806-b19cce2dc283",
   "metadata": {},
   "outputs": [],
   "source": [
    "s1 = ###\n",
    "s2 = ###\n",
    "\n",
    "len_x = len(s1)\n",
    "qx = QuantumRegister(len_x, 'x')\n",
    "qy = QuantumRegister(1, 'y')\n",
    "qa = QuantumRegister(1, 'a')\n",
    "cr = ClassicalRegister(len_x)\n",
    "qc = QuantumCircuit(qx,qy,qa,cr)\n",
    "\n",
    "# equal superposition of all bitstrings\n",
    "qc.h(qx)\n",
    "\n",
    "# prepare |-> state on y\n",
    "qc.x(qy)\n",
    "qc.h(qy)\n",
    "\n",
    "# prepare |+> state on a\n",
    "qc.h(qa)\n",
    "\n",
    "qc.barrier()\n",
    "\n",
    "# ORACLE\n",
    "BV_oracle_two_strings(qc,qx,qy,qa,s1,s2)\n",
    "\n",
    "qc.barrier()\n",
    "\n",
    "# undo superposition on x\n",
    "qc.h(qx)\n",
    "\n",
    "# measure x\n",
    "qc.measure(qx,cr)\n",
    "qc.draw()"
   ]
  },
  {
   "cell_type": "code",
   "execution_count": null,
   "id": "509d1a62-b3ae-4a87-a3ec-48687ce91e86",
   "metadata": {},
   "outputs": [],
   "source": [
    "# RUN the circuit to check your work!\n",
    "job = backend.run(qc, shots=1024)\n",
    "job_monitor(job)\n",
    "result = job.result()\n",
    "counts = result.get_counts()\n",
    "plot_histogram(counts)"
   ]
  },
  {
   "cell_type": "markdown",
   "id": "c5e519c0-0af5-44cd-ac5e-c3bd74818397",
   "metadata": {},
   "source": [
    "# 3. Simon's Algorithm"
   ]
  },
  {
   "cell_type": "markdown",
   "id": "df1d8f50-84c2-4960-bd34-432ef11cc0c8",
   "metadata": {},
   "source": [
    "<div style=\"background-color:rgba(247, 255, 245, 1.0); text-align:left; vertical-align: middle; padding:20px 0;border:3px; border-style:solid; padding: 0.5em; border-color: rgba(0, 153, 51, 1.0); color: #000000;\">\n",
    "\n",
    "Again, we have a secret string $s$. We are given a function $f: \\{0,1\\}^n \\rightarrow \\{0,1\\}^n$ which satisfies $f(x)=f(y)$ if and only if $x=y$ or $x\\oplus s = y$. In other words, $f$ is periodic, i.e. two distinct inputs can only have the same output if they are separated by $s$.\n",
    "\n",
    "Here is an example for s=011.\n",
    "| $x$ &nbsp; &nbsp; &nbsp; &nbsp; &nbsp; &nbsp; &nbsp; |  $f(x)$ &nbsp; &nbsp; &nbsp; &nbsp; &nbsp; &nbsp; &nbsp; | \n",
    "| :-------------------------------- |  :-------------------------------- |\n",
    " |000 | 000 |\n",
    " |001| 001 | \n",
    " |010 | 001| \n",
    " |011| 000| \n",
    " |100 | 010 |\n",
    " |101| 111 | \n",
    " |110 | 111| \n",
    " |111| 010|\n",
    "\n",
    "We can see that $000 \\oplus 011 = 011$ and they both have the same output, $001 \\oplus 011 = 010$ and they both have the same output, etc. It is also possible for $s$ to be zero, in which case $f$ is a one-to-one function (every distinct input has a distinct output).\n",
    "\n",
    "Classically, the best approach to find $s$ is to randomly query $f$ until you find two inputs which give the same output. In the worst case, you may have to query half of the inputs to determine that no two inputs share an output. Therefore any classical approach requires $\\mathcal{O}(2^{n/2})$ queries.\n",
    "\n",
    "Using Simon's algorithm, we can do this in $\\mathcal{O}(n)$ queries. We need to run the circuit until we determine $n/2$ unique measurement results. Each measurement result $z$ satisfies $s\\cdot z = 0$, so if we have $n$ results, we can reconstruct $s$ from the system of $n$ equations. Let's test out Simon's algorithm now!\n",
    "\n",
    "</div>\n",
    "$$ $$\n"
   ]
  },
  {
   "cell_type": "code",
   "execution_count": 33,
   "id": "ab966f38-f2d4-4cc2-a8b4-83ed52e55906",
   "metadata": {},
   "outputs": [],
   "source": [
    "def simon_oracle(qc,qx,qy,string):\n",
    "\n",
    "    if len(string) != qx.size():\n",
    "        raise ValueError(f\"The string length ({len(string)}) and register size ({qx.size()}) don't match.\")\n",
    "\n",
    "    s_inv = string[::-1]\n",
    "    n = qx.size()\n",
    "\n",
    "    # copy the x register to the y register\n",
    "    for i in range(n):\n",
    "        qc.cx(qx[i],qy[i])\n",
    "    # apply conditional gates\n",
    "    first_1_idx = s_inv.find('1')\n",
    "    for i in range(n):\n",
    "        if s_inv[i] == '1':\n",
    "            qc.cx(qx[first_1_idx],qy[i])"
   ]
  },
  {
   "cell_type": "code",
   "execution_count": 34,
   "id": "627c01ee-60a4-4964-98e5-b068db251045",
   "metadata": {},
   "outputs": [
    {
     "name": "stdout",
     "output_type": "stream",
     "text": [
      "       ┌───┐                         ┌───┐┌───┐           \n",
      "x[0]: ■┤ H ├──■──────────────■────■──┤ H ├┤ M ├────────── \n",
      "       ├───┤  │              │    │  ├───┤└─╥─┘┌───┐      \n",
      "x[1]: ■┤ H ├──│────■─────────│────│──┤ H ├──║──┤ M ├───── \n",
      "       ├───┤  │    │         │    │  ├───┤  ║  └─╥─┘┌───┐ \n",
      "x[2]: ■┤ H ├──│────│────■────│────│──┤ H ├──║────║──┤ M ├ \n",
      "       └───┘┌─┴─┐  │    │  ┌─┴─┐  │  └───┘  ║    ║  └─╥─┘ \n",
      "y[0]: ■─────┤ X ├──│────│──┤ X ├──│─────────║────║────║── \n",
      "            └───┘┌─┴─┐  │  └───┘  │         ║    ║    ║   \n",
      "y[1]: ■──────────┤ X ├──│─────────│─────────║────║────║── \n",
      "                 └───┘┌─┴─┐     ┌─┴─┐       ║    ║    ║   \n",
      "y[2]: ■───────────────┤ X ├─────┤ X ├───────║────║────║── \n",
      "                      └───┘     └───┘       ║    ║    ║   \n",
      "c: 3/ ■═════════════════════════════════════╩════╩════╩══ \n",
      "                                            0    1    2   \n"
     ]
    }
   ],
   "source": [
    "string = '101'\n",
    "len_x = len(string)\n",
    "\n",
    "qx = QuantumRegister(len_x, 'x')\n",
    "qy = QuantumRegister(len_x, 'y')\n",
    "crx = ClassicalRegister(len_x)\n",
    "qc = QuantumCircuit(qx,qy,crx, name='QSS6.3_Simons')\n",
    "\n",
    "qc.h(qx)\n",
    "simon_oracle(qc,qx,qy,string)\n",
    "qc.h(qx)\n",
    "\n",
    "qc.measure(qx,crx)\n",
    "qc.draw()"
   ]
  },
  {
   "cell_type": "code",
   "execution_count": 35,
   "id": "fc99bc07-688e-4de8-a62d-d8c03831bcd3",
   "metadata": {},
   "outputs": [
    {
     "name": "stdout",
     "output_type": "stream",
     "text": [
      "Job Running\n",
      "Job Done.\n",
      "Ending Job Monitor\n"
     ]
    },
    {
     "data": {
      "image/png": "[encoded data removed]",
      "text/plain": [
       "<Figure size 640x480 with 1 Axes>"
      ]
     },
     "execution_count": 35,
     "metadata": {},
     "output_type": "execute_result"
    }
   ],
   "source": [
    "job = backend.run(qc, shots=1000)\n",
    "job_monitor(job)\n",
    "result = job.result()\n",
    "counts = result.get_counts()\n",
    "plot_histogram(counts)"
   ]
  },
  {
   "cell_type": "code",
   "execution_count": 36,
   "id": "8f169819-6c93-4dd4-a58f-2c863298bd3e",
   "metadata": {},
   "outputs": [
    {
     "name": "stdout",
     "output_type": "stream",
     "text": [
      "101 . 000 = 0 = 0 (mod 2)\n",
      "101 . 010 = 0 = 0 (mod 2)\n",
      "101 . 101 = 2 = 0 (mod 2)\n",
      "101 . 111 = 2 = 0 (mod 2)\n"
     ]
    }
   ],
   "source": [
    "compute_dot_products(string, counts)"
   ]
  },
  {
   "cell_type": "markdown",
   "id": "271178db-2b9b-4383-ad39-90937c1a9b8c",
   "metadata": {},
   "source": [
    "<div style=\"background-color:rgba(252, 245, 255, 1.0); text-align:left; vertical-align: middle; padding:20px 0;border:3px; border-style:solid; padding: 0.5em; border-color: rgba(190, 111, 227, 1.0); color: #000000;\">\n",
    "\n",
    "### Challenge Problems: \n",
    "\n",
    "**A)** What happens if $s=0$ (as a string '00...0')? Can you still determine $s$? How is this case different from all the others?\n",
    "\n",
    "**B)** Try Simon's algorithm with more qubits! How many queries do you need to find n distinct measurement results? Does it match what you expect?\n",
    "\n",
    "<div/>"
   ]
  },
  {
   "cell_type": "code",
   "execution_count": null,
   "id": "1f1ab2b3-37b3-4b09-847b-2be9b5da383a",
   "metadata": {},
   "outputs": [],
   "source": [
    "## your code here"
   ]
  }
 ],
 "metadata": {
  "kernelspec": {
   "display_name": "Python 3 QuantumRings",
   "language": "python",
   "name": "python3_quantu_8bt6c1"
  },
  "language_info": {
   "codemirror_mode": {
    "name": "ipython",
    "version": 3
   },
   "file_extension": ".py",
   "mimetype": "text/x-python",
   "name": "python",
   "nbconvert_exporter": "python",
   "pygments_lexer": "ipython3",
   "version": "3.11.9"
  }
 },
 "nbformat": 4,
 "nbformat_minor": 5
}
