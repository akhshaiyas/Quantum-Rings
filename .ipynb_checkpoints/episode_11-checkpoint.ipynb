{
 "cells": [
  {
   "cell_type": "markdown",
   "id": "a90b4b55-bc01-4b4c-86c6-30e37b17a25d",
   "metadata": {},
   "source": [
    "<div style=\"background-color:rgba(78, 188, 130, 0.05); text-align:center; vertical-align: middle; padding:20px 0;border:3px; border-style:solid; padding: 0.5em; border-color: rgba(78, 188, 130, 1.0); color: #000000;\">\n",
    "\n",
    "<img src=\"figs/qr_logo.png\" width=\"700\"/>\n",
    "\n",
    "<h1><strong>Quantum Summer School</strong></h1>\n",
    "\n",
    "<h2><strong>Episode 11</strong></h2>\n",
    "\n",
    "<h3><strong>Variational Algorithms I: VQE</strong></h3>\n",
    "\n",
    "</div>"
   ]
  },
  {
   "cell_type": "markdown",
   "id": "023814de-3fe1-4e89-bc1c-99055b841cfe",
   "metadata": {},
   "source": [
    "*In this session, we will learn about the variational quantum eigensolver algorithm!*"
   ]
  },
  {
   "cell_type": "markdown",
   "id": "fdf8ec55-255b-4f08-a21a-bd24c6843a99",
   "metadata": {
    "jp-MarkdownHeadingCollapsed": true
   },
   "source": [
    "<div style=\"background-color:rgba(255, 248, 240, 1.0); text-align:left; vertical-align: middle; padding:20px 0;border:3px; border-style:solid; padding: 0.5em; border-color: rgba(255, 142, 0, 1.0); color: #000000;\">\n",
    "\n",
    "## Objectives\n",
    "1. Understand the concept behind VQE\n",
    "2. Apply the varitational method to simple examples\n",
    "3. Run VQE for the ground state of $H_2$\n",
    "\n",
    "<div/>"
   ]
  },
  {
   "cell_type": "markdown",
   "id": "50834801-223c-4bb4-9eef-169d4236b93b",
   "metadata": {},
   "source": [
    "## Setup & Imports"
   ]
  },
  {
   "cell_type": "code",
   "execution_count": 1,
   "id": "d1602ed8-9e60-49f2-b1de-64e2cc552668",
   "metadata": {},
   "outputs": [
    {
     "name": "stdout",
     "output_type": "stream",
     "text": [
      "\n",
      "\u001b[1m[\u001b[0m\u001b[34;49mnotice\u001b[0m\u001b[1;39;49m]\u001b[0m\u001b[39;49m A new release of pip is available: \u001b[0m\u001b[31;49m25.1.1\u001b[0m\u001b[39;49m -> \u001b[0m\u001b[32;49m25.2\u001b[0m\n",
      "\u001b[1m[\u001b[0m\u001b[34;49mnotice\u001b[0m\u001b[1;39;49m]\u001b[0m\u001b[39;49m To update, run: \u001b[0m\u001b[32;49mpip install --upgrade pip\u001b[0m\n"
     ]
    }
   ],
   "source": [
    "from QuantumRingsLib import QuantumRingsProvider\n",
    "from qiskit import QuantumCircuit\n",
    "from quantumrings.toolkit.qiskit import QrBackendV2, QrEstimatorV1  # V1 matches VQE API\n",
    "from qiskit.circuit.library import EfficientSU2, TwoLocal\n",
    "from qiskit.quantum_info import SparsePauliOp\n",
    "!pip -q install qiskit-algorithms\n",
    "from qiskit_algorithms import VQE\n",
    "from qiskit_algorithms.optimizers import COBYLA\n",
    "import numpy as np, matplotlib.pyplot as plt\n",
    "from scipy.optimize import minimize\n",
    "from scipy.linalg import expm\n",
    "\n",
    "provider   = QuantumRingsProvider()\n",
    "backend    = QrBackendV2(provider, num_qubits=2, shots=2048)\n",
    "estimator  = QrEstimatorV1(backend=backend)"
   ]
  },
  {
   "cell_type": "markdown",
   "id": "0120db7f-746a-47d3-9178-cb4b57cbd070",
   "metadata": {},
   "source": [
    "# 1. Variational Method"
   ]
  },
  {
   "cell_type": "markdown",
   "id": "1657d760-fea7-4205-bc43-05b1f1e47aa4",
   "metadata": {},
   "source": [
    "<div style=\"background-color:rgba(243, 248, 255, 1.0); text-align:left; vertical-align: middle; padding:20px 0;border:3px; border-style:solid; padding: 0.5em; border-color: rgba(101, 174, 247, 1.0); color: #000000;\">\n",
    "\n",
    "The idea behind VQE is to iteratively update a trial wavefunction (ansatz) based upon a measured expectation value. In typical VQE, we seek to minimize $\\langle H\\rangle$, the expectation value of the energy, since $\\langle H\\rangle \\geq E_0$. Minimizing $\\langle H\\rangle$ gives us a good approximation for the ground state energy $E_0$.\n",
    "\n",
    "We can also apply these ideas in a simple circuit. Our goal is to apply an Rx rotation and have the average measured state of the qubit be 0.5. In other words, we should measure (approximately) 0 50% of the time and 1 50% of the time. This happens when our state vector lies on the equator on the Bloch sphere. We know that the angle we should rotate by is 90°.\n",
    "\n",
    "</div>"
   ]
  },
  {
   "cell_type": "markdown",
   "id": "f95d4f3e-5d02-4c09-929b-fc572b4f9eb5",
   "metadata": {},
   "source": [
    "First create a varitational circuit, which applies the rotation $R_x(\\theta)$."
   ]
  },
  {
   "cell_type": "code",
   "execution_count": 4,
   "id": "66fd8847-e55b-4a02-bdde-730a353310bf",
   "metadata": {},
   "outputs": [],
   "source": [
    "def variational_circuit(angle):\n",
    "\n",
    "    if isinstance(angle, (np.ndarray, list)):\n",
    "        angle = angle[0]\n",
    "\n",
    "    # make ansatz\n",
    "    qc = QuantumCircuit(1, name=\"QSS11.1.rotation\")\n",
    "    qc.rx(angle,0)\n",
    "    # measure\n",
    "    qc.measure_all()\n",
    "\n",
    "    return qc"
   ]
  },
  {
   "cell_type": "markdown",
   "id": "7b8ee802-9cb9-4f99-a782-4c65d404e2da",
   "metadata": {},
   "source": [
    "Now define the cost function."
   ]
  },
  {
   "cell_type": "code",
   "execution_count": 6,
   "id": "d1caffd7-d097-427b-bf05-910867686454",
   "metadata": {},
   "outputs": [],
   "source": [
    "def cost(angle, shots=2000):\n",
    "\n",
    "    qc = variational_circuit(angle)\n",
    "\n",
    "    job = backend.run(qc, shots=shots)\n",
    "    result = job.result()\n",
    "    counts = result.get_counts()\n",
    "\n",
    "    # compute cost (MSE between current and desired expectation value)\n",
    "    average_cost = (counts.get('1',0)/shots-0.5)**2\n",
    "\n",
    "    return average_cost"
   ]
  },
  {
   "cell_type": "markdown",
   "id": "3994a714-f2ee-4a69-baf0-76c7b2d98db5",
   "metadata": {},
   "source": [
    "Iteratively update our guess $\\theta$ with a classical optimizer."
   ]
  },
  {
   "cell_type": "code",
   "execution_count": 7,
   "id": "ccffec0e-18f2-4969-bdbb-08f94b915248",
   "metadata": {},
   "outputs": [
    {
     "name": "stdout",
     "output_type": "stream",
     "text": [
      "Optimized Angle(s) in Degrees: 87.29\n"
     ]
    }
   ],
   "source": [
    "initial_guess = np.deg2rad(30)\n",
    "\n",
    "result = minimize(cost, initial_guess, method='COBYLA')\n",
    "best_angle = result.x[0]\n",
    "\n",
    "# Output the optimized parameter\n",
    "print(f'Optimized Angle(s) in Degrees: {np.rad2deg(best_angle):.2f}')"
   ]
  },
  {
   "cell_type": "markdown",
   "id": "85b5f1b6-5f90-42aa-a015-3df6b3052e2d",
   "metadata": {},
   "source": [
    "<div style=\"background-color:rgba(252, 245, 255, 1.0); text-align:left; vertical-align: middle; padding:20px 0;border:3px; border-style:solid; padding: 0.5em; border-color: rgba(190, 111, 227, 1.0); color: #000000;\">\n",
    "\n",
    "### Challenge Problem: \n",
    "\n",
    "Repeat the same process as above but with two angles as parameters. Let angle1 be the angle for an Rx rotation and angle2 be the angle for an Rz rotation, applied in that order. The target is to end in the state $|+\\rangle$. \n",
    "\n",
    "*Hint: Remember that you can apply a Hadamard gate right before measurement to rotate $|+\\rangle$ to $|0\\rangle$. Then your target expectation value (average qubit measurement) should be zero.*\n",
    "\n",
    "<div/>"
   ]
  },
  {
   "cell_type": "markdown",
   "id": "842140e5-f213-4e01-a9a8-04c8d324c737",
   "metadata": {},
   "source": [
    "# 2. An Electron in a Magnetic Field"
   ]
  },
  {
   "cell_type": "markdown",
   "id": "54263a1f-e97b-4f7d-9237-f86883ce035a",
   "metadata": {},
   "source": [
    "<div style=\"background-color:rgba(247, 255, 245, 1.0); text-align:left; vertical-align: middle; padding:20px 0;border:3px; border-style:solid; padding: 0.5em; border-color: rgba(0, 153, 51, 1.0); color: #000000;\">\n",
    "\n",
    "The Hamiltonian for an electron in a magnetic field in the z directions is:\n",
    "\n",
    "$$H = \\sigma_z$$\n",
    "\n",
    "where $\\sigma_z$ is a Pauli matrix. Earlier in the course, we have also used the notation $Z$. The two eigenstates of the electron are spin-up and spin-down: $|\\uparrow\\rangle$ and $|\\downarrow\\rangle$. The lower energy state is $|\\uparrow\\rangle$ since the electron spin is aligned with the magnetic field, so we can map it to $|0\\rangle$ in our quantum computer. The higher energy state is $|\\uparrow\\rangle$ since the electron is anti-aligned with the field, so we can map it to $|1\\rangle$ in our quantum computer.\n",
    "\n",
    "Now suppose we turn on a magnetic field in the x-direction with equal strength to the z-direction. The Hamiltonian becomes:\n",
    "\n",
    "$$H = \\sigma_x + \\sigma_z$$\n",
    "\n",
    "Let's apply VQE to find the ground state energy of this Hamiltonian.\n",
    "\n",
    "</div>"
   ]
  },
  {
   "cell_type": "markdown",
   "id": "24c6574a-60de-46c3-a10a-5719a0ffc16f",
   "metadata": {},
   "source": [
    "First define Pauli operators and Hamiltonian."
   ]
  },
  {
   "cell_type": "code",
   "execution_count": 8,
   "id": "81fd24b4-e042-476f-9e10-2c64340120af",
   "metadata": {},
   "outputs": [],
   "source": [
    "# Pauli-X\n",
    "sigma_x = np.array([[0, 1],\n",
    "                    [1, 0]])\n",
    "\n",
    "# Pauli-Y\n",
    "sigma_y = np.array([[0, -1j],\n",
    "                    [1j,  0]])\n",
    "\n",
    "# Pauli-Z\n",
    "sigma_z = np.array([[1,  0],\n",
    "                    [0, -1]])\n",
    "\n",
    "# Hamiltonian\n",
    "H = sigma_x + sigma_z"
   ]
  },
  {
   "cell_type": "markdown",
   "id": "5653a2ad-277d-48fb-b521-373d13de64fa",
   "metadata": {},
   "source": [
    "The eigenvectors and eigenenergies of the system:"
   ]
  },
  {
   "cell_type": "code",
   "execution_count": 9,
   "id": "aab74fd8-1d51-4d75-9bfd-7b556c85a793",
   "metadata": {},
   "outputs": [
    {
     "name": "stdout",
     "output_type": "stream",
     "text": [
      "Eigenvalue 1: 1.414, Eigenvector 1: 0.924 |0> + -0.383 |1>\n",
      "Eigenvalue 2: -1.414, Eigenvector 2: 0.383 |0> + 0.924 |1>\n"
     ]
    }
   ],
   "source": [
    "eig_vals, eig_vecs = np.linalg.eig(H)\n",
    "\n",
    "for i in range(2):\n",
    "    print(f'Eigenvalue {i+1}: {eig_vals[i]:.3f}, Eigenvector {i+1}: {eig_vecs[i][0]:.3f} |0> + {eig_vecs[i][1]:.3f} |1>')"
   ]
  },
  {
   "cell_type": "markdown",
   "id": "f79e4dca-c9e2-4fe3-b3e5-a93f217252c1",
   "metadata": {},
   "source": [
    "Where do these lie on the Bloch sphere?"
   ]
  },
  {
   "cell_type": "code",
   "execution_count": 10,
   "id": "f59e6939-5247-4dbc-b1f8-113596975bbe",
   "metadata": {},
   "outputs": [
    {
     "name": "stdout",
     "output_type": "stream",
     "text": [
      "Angle 1: 45.000\n",
      "Angle 1: 225.000\n"
     ]
    }
   ],
   "source": [
    "angle1 = 2* np.arccos(eig_vecs[0][0])\n",
    "print(f'Angle 1: {np.rad2deg(angle1):.3f}')\n",
    "\n",
    "angle2 = angle1 + np.pi\n",
    "print(f'Angle 1: {np.rad2deg(angle2):.3f}')"
   ]
  },
  {
   "cell_type": "markdown",
   "id": "97829947-17aa-416f-a4ed-6fcf5f416964",
   "metadata": {},
   "source": [
    "Define a variational circuit. We will need the ability to measure in both the Z and X bases in order to get the $\\sigma_x$ and $\\sigma_z$ Pauli operators."
   ]
  },
  {
   "cell_type": "code",
   "execution_count": 11,
   "id": "e3e5b4f0-0291-4597-a130-3c70ccae8b23",
   "metadata": {},
   "outputs": [],
   "source": [
    "def variational_circuit(angle, basis='Z'):\n",
    "\n",
    "    if isinstance(angle, (np.ndarray, list)):\n",
    "        angle = angle[0]\n",
    "\n",
    "    qc = QuantumCircuit(1, name=\"QSS11.2.electron\")\n",
    "    qc.ry(angle,0)\n",
    "    if basis == 'X':\n",
    "        qc.h(0)\n",
    "    qc.measure_all()\n",
    "\n",
    "    return qc"
   ]
  },
  {
   "cell_type": "markdown",
   "id": "5c0bf041-55d3-445a-af67-e3973286447f",
   "metadata": {},
   "source": [
    "Define the cost function. We want to compute the expected value of H, so we will need to convert our counts (0 and 1) to expectation values of Pauli operators. The eigenvalues of Pauli operators are $\\pm 1$, so we can apply $\\langle \\sigma_z \\rangle = 1-2P(1)$. If we measure in the X basis, then similarly $\\langle \\sigma_x \\rangle = 1-2P(1)$."
   ]
  },
  {
   "cell_type": "code",
   "execution_count": 12,
   "id": "d569ae08-7f6a-4bc4-9c44-3cff32be6f4a",
   "metadata": {},
   "outputs": [],
   "source": [
    "def cost(angle, shots=2000):\n",
    "\n",
    "    # measure in Z basis\n",
    "    qc = variational_circuit(angle, basis = 'Z')\n",
    "    \n",
    "    job = backend.run(qc, shots=shots)\n",
    "    result = job.result()\n",
    "    counts = result.get_counts()\n",
    "\n",
    "    p1_z = counts.get('1', 0) / shots\n",
    "    exp_z = 1-2*p1_z# ⟨Z⟩\n",
    "\n",
    "    # measure in X basis\n",
    "    qc = variational_circuit(angle, basis = 'X')\n",
    "    \n",
    "    job = backend.run(qc, shots=shots)\n",
    "    result = job.result()\n",
    "    counts = result.get_counts()\n",
    "\n",
    "    p1_x = counts.get('1', 0) / shots\n",
    "    exp_x = 1-2*p1_x# ⟨X⟩\n",
    "\n",
    "    average_cost = exp_z + exp_x\n",
    "\n",
    "    return average_cost"
   ]
  },
  {
   "cell_type": "code",
   "execution_count": 13,
   "id": "df6dba6b-6d88-4c39-89c9-7c9d1601d3c3",
   "metadata": {},
   "outputs": [
    {
     "name": "stdout",
     "output_type": "stream",
     "text": [
      "Optimized Angle(s) in Degrees: 218.62\n"
     ]
    }
   ],
   "source": [
    "initial_guess = np.deg2rad(70)\n",
    "\n",
    "result = minimize(cost, initial_guess, method='COBYLA')\n",
    "best_angle = result.x[0]\n",
    "\n",
    "# Output the optimized parameter\n",
    "print(f'Optimized Angle(s) in Degrees: {np.rad2deg(best_angle):.2f}')"
   ]
  },
  {
   "cell_type": "markdown",
   "id": "c9a303e0-cd02-4530-9718-39d2bab45442",
   "metadata": {},
   "source": [
    "The rotation $Ry(\\theta)$ can also be expressed as $e^{-i \\sigma_y \\theta /2}$. We can check what we get for the ground state energy."
   ]
  },
  {
   "cell_type": "code",
   "execution_count": 14,
   "id": "d8c3d367-2f2b-44db-b700-3b276de2688d",
   "metadata": {},
   "outputs": [
    {
     "data": {
      "text/plain": [
       "array([[-1.40544584+0.j]])"
      ]
     },
     "execution_count": 14,
     "metadata": {},
     "output_type": "execute_result"
    }
   ],
   "source": [
    "# eigenstate and value\n",
    "\n",
    "matrix = -1j*sigma_y * best_angle/2\n",
    "Ry = expm(matrix)\n",
    "vec = Ry @ np.array([[1],[0]])\n",
    "\n",
    "ground_state_energy = vec.T @ H @ vec\n",
    "ground_state_energy"
   ]
  },
  {
   "cell_type": "markdown",
   "id": "670cf210-4d9c-4e0e-9527-3a31f55c40fc",
   "metadata": {},
   "source": [
    "<div style=\"background-color:rgba(252, 245, 255, 1.0); text-align:left; vertical-align: middle; padding:20px 0;border:3px; border-style:solid; padding: 0.5em; border-color: rgba(190, 111, 227, 1.0); color: #000000;\">\n",
    "\n",
    "### Challenge Problem: \n",
    "\n",
    "Now suppose the magnetic field is not equally balanced between the x and z directions, for instance: $H = 2\\sigma_x + \\sigma_z$. Apply the same algorithm as above, keeping in mind that the cost function should change to compute the right expectation value of H. Are you still able to find the ground state energy?\n",
    "\n",
    "<div/>"
   ]
  },
  {
   "cell_type": "markdown",
   "id": "3f80f9cc-0c2d-4aea-86fb-67e205c1a856",
   "metadata": {},
   "source": [
    "# 3. VQE"
   ]
  },
  {
   "cell_type": "markdown",
   "id": "b4c6b5f9-0727-4919-ba81-cb3ae6c80b2a",
   "metadata": {},
   "source": [
    "<div style=\"background-color:rgba(255, 245, 253, 1.0); text-align:left; vertical-align: middle; padding:20px 0;border:3px; border-style:solid; padding: 0.5em; border-color: rgba(255, 142, 235, 1.0); color: #000000;\">\n",
    "\n",
    "A molecule of hydrogen gas $H_2$ has a ground state energy of -1.173 Hartree (-31.9 eV) at an atomic distance of 0.735 Angstroms. Let's use VQE to find this.\n",
    "\n",
    "<div/>"
   ]
  },
  {
   "cell_type": "markdown",
   "id": "9c8eda08-11e6-4aa5-974c-e9c9f77369c6",
   "metadata": {},
   "source": [
    "## Ansatz"
   ]
  },
  {
   "cell_type": "markdown",
   "id": "49d09319-2cb3-43a2-8578-6643f35f678b",
   "metadata": {},
   "source": [
    "### A) Hardware-efficient (Efficient SU(2), 2 reps)\n",
    "\n",
    "This approach uses shallow rotation and CNOT layers so it is easy to transpile."
   ]
  },
  {
   "cell_type": "code",
   "execution_count": 15,
   "id": "df4fd8a5-3040-46b0-8577-d17cf263a6cb",
   "metadata": {},
   "outputs": [
    {
     "data": {
      "text/html": [
       "<pre style=\"word-wrap: normal;white-space: pre;background: #fff0;line-height: 1.1;font-family: &quot;Courier New&quot;,Courier,monospace\">     ┌──────────┐┌──────────┐     ┌──────────┐┌──────────┐     ┌──────────┐»\n",
       "q_0: ┤ Ry(θ[0]) ├┤ Rz(θ[2]) ├──■──┤ Ry(θ[4]) ├┤ Rz(θ[6]) ├──■──┤ Ry(θ[8]) ├»\n",
       "     ├──────────┤├──────────┤┌─┴─┐├──────────┤├──────────┤┌─┴─┐├──────────┤»\n",
       "q_1: ┤ Ry(θ[1]) ├┤ Rz(θ[3]) ├┤ X ├┤ Ry(θ[5]) ├┤ Rz(θ[7]) ├┤ X ├┤ Ry(θ[9]) ├»\n",
       "     └──────────┘└──────────┘└───┘└──────────┘└──────────┘└───┘└──────────┘»\n",
       "«     ┌───────────┐\n",
       "«q_0: ┤ Rz(θ[10]) ├\n",
       "«     ├───────────┤\n",
       "«q_1: ┤ Rz(θ[11]) ├\n",
       "«     └───────────┘</pre>"
      ],
      "text/plain": [
       "     ┌──────────┐┌──────────┐     ┌──────────┐┌──────────┐     ┌──────────┐»\n",
       "q_0: ┤ Ry(θ[0]) ├┤ Rz(θ[2]) ├──■──┤ Ry(θ[4]) ├┤ Rz(θ[6]) ├──■──┤ Ry(θ[8]) ├»\n",
       "     ├──────────┤├──────────┤┌─┴─┐├──────────┤├──────────┤┌─┴─┐├──────────┤»\n",
       "q_1: ┤ Ry(θ[1]) ├┤ Rz(θ[3]) ├┤ X ├┤ Ry(θ[5]) ├┤ Rz(θ[7]) ├┤ X ├┤ Ry(θ[9]) ├»\n",
       "     └──────────┘└──────────┘└───┘└──────────┘└──────────┘└───┘└──────────┘»\n",
       "«     ┌───────────┐\n",
       "«q_0: ┤ Rz(θ[10]) ├\n",
       "«     ├───────────┤\n",
       "«q_1: ┤ Rz(θ[11]) ├\n",
       "«     └───────────┘"
      ]
     },
     "execution_count": 15,
     "metadata": {},
     "output_type": "execute_result"
    }
   ],
   "source": [
    "he_ansatz = EfficientSU2(2, reps=2, entanglement=\"full\")\n",
    "he_ansatz.decompose().draw()"
   ]
  },
  {
   "cell_type": "markdown",
   "id": "f8a46be7-d379-4887-a86d-a4d1fc15f0c5",
   "metadata": {},
   "source": [
    "### B) Chemically inspired (minimal Unitary Coupled Cluster -type)\n",
    "For 2 qubits the UCC doubles to $e^{−i \\theta (\\sigma_x\\sigma_x + \\sigma_y\\sigma_y)/2}$."
   ]
  },
  {
   "cell_type": "code",
   "execution_count": 16,
   "id": "90a28d36-7a01-4264-ad7c-e7aff8144dde",
   "metadata": {},
   "outputs": [
    {
     "data": {
      "text/html": [
       "<pre style=\"word-wrap: normal;white-space: pre;background: #fff0;line-height: 1.1;font-family: &quot;Courier New&quot;,Courier,monospace\">     ┌────────────────────────────────┐\n",
       "q_0: ┤0                               ├\n",
       "     │  TwoLocal(θ[0],θ[1],θ[2],θ[3]) │\n",
       "q_1: ┤1                               ├\n",
       "     └────────────────────────────────┘</pre>"
      ],
      "text/plain": [
       "     ┌────────────────────────────────┐\n",
       "q_0: ┤0                               ├\n",
       "     │  TwoLocal(θ[0],θ[1],θ[2],θ[3]) │\n",
       "q_1: ┤1                               ├\n",
       "     └────────────────────────────────┘"
      ]
     },
     "execution_count": 16,
     "metadata": {},
     "output_type": "execute_result"
    }
   ],
   "source": [
    "chem_ansatz = TwoLocal(2, rotation_blocks=[\"ry\"], entanglement_blocks=[\"cx\"], reps=1)\n",
    "chem_ansatz.draw()"
   ]
  },
  {
   "cell_type": "markdown",
   "id": "02a880e9-902c-448c-a85b-b38d4f350e6f",
   "metadata": {},
   "source": [
    "## H₂ Hamiltonian (atomic distance 0.735 Å)"
   ]
  },
  {
   "cell_type": "code",
   "execution_count": 17,
   "id": "2f6e82ae-4de3-4741-8796-b875fab519f0",
   "metadata": {},
   "outputs": [
    {
     "data": {
      "text/plain": [
       "SparsePauliOp(['ZI', 'IZ', 'ZZ', 'XX', 'YY', 'XZ'],\n",
       "              coeffs=[-0.81054798+0.j,  0.17218393+0.j,  0.17218393+0.j, -0.22575349+0.j,\n",
       "  0.12091263+0.j,  0.16892754+0.j])"
      ]
     },
     "execution_count": 17,
     "metadata": {},
     "output_type": "execute_result"
    }
   ],
   "source": [
    "coeffs  = [-0.81054798, 0.172183932, 0.172183932,\n",
    "           -0.225753492, 0.120912632, 0.168927538]\n",
    "paulis  = [\"ZI\", \"IZ\", \"ZZ\", \"XX\", \"YY\", \"XZ\"]\n",
    "H2_op   = SparsePauliOp.from_list(list(zip(paulis, coeffs)))\n",
    "H2_op"
   ]
  },
  {
   "cell_type": "markdown",
   "id": "f676eaab-77e1-4808-ad39-a4fa7aef8ceb",
   "metadata": {},
   "source": [
    "## Run VQE (Estimator V1 + COBYLA)\n",
    "\n",
    "Try both ansatzes!"
   ]
  },
  {
   "cell_type": "code",
   "execution_count": 18,
   "id": "925a6c49-80b0-4fa3-97ff-c3ba55ab1897",
   "metadata": {},
   "outputs": [
    {
     "name": "stdout",
     "output_type": "stream",
     "text": [
      "VQE ground-state energy: -1.175486 Hartree\n"
     ]
    }
   ],
   "source": [
    "ansatz    = chem_ansatz              # choose ansatz here\n",
    "optimizer = COBYLA(maxiter=100)\n",
    "\n",
    "vqe = VQE(estimator=estimator, ansatz=ansatz, optimizer=optimizer)\n",
    "result = vqe.compute_minimum_eigenvalue(H2_op)\n",
    "print(\"VQE ground-state energy:\", round(result.eigenvalue.real, 6), \"Hartree\")"
   ]
  }
 ],
 "metadata": {
  "kernelspec": {
   "display_name": "Python 3 QuantumRings",
   "language": "python",
   "name": "python3_quantu_8bt6c1"
  },
  "language_info": {
   "codemirror_mode": {
    "name": "ipython",
    "version": 3
   },
   "file_extension": ".py",
   "mimetype": "text/x-python",
   "name": "python",
   "nbconvert_exporter": "python",
   "pygments_lexer": "ipython3",
   "version": "3.11.9"
  }
 },
 "nbformat": 4,
 "nbformat_minor": 5
}
